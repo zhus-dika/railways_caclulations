{
  "nbformat": 4,
  "nbformat_minor": 0,
  "metadata": {
    "colab": {
      "provenance": [],
      "authorship_tag": "ABX9TyOdL4gULm8S6HT9jhBT86CR",
      "include_colab_link": true
    },
    "kernelspec": {
      "name": "python3",
      "display_name": "Python 3"
    },
    "language_info": {
      "name": "python"
    }
  },
  "cells": [
    {
      "cell_type": "markdown",
      "metadata": {
        "id": "view-in-github",
        "colab_type": "text"
      },
      "source": [
        "<a href=\"https://colab.research.google.com/github/zhus-dika/railways_caclulations/blob/main/railways_caclulations.ipynb\" target=\"_parent\"><img src=\"https://colab.research.google.com/assets/colab-badge.svg\" alt=\"Open In Colab\"/></a>"
      ]
    },
    {
      "cell_type": "markdown",
      "source": [
        "## 🐛 Linear regression in logarithms"
      ],
      "metadata": {
        "id": "faHuDVZMVoRD"
      }
    },
    {
      "cell_type": "markdown",
      "source": [
        "### 🐸 Coal"
      ],
      "metadata": {
        "id": "TmEZz2kEhnAB"
      }
    },
    {
      "cell_type": "code",
      "source": [
        "import numpy as np\n",
        "import pandas as pd\n",
        "import statsmodels.api as sm\n",
        "\n",
        "tariff = 100\n",
        "# Данные\n",
        "data = pd.DataFrame({\n",
        "    \"tariff\": [tariff, tariff * 1.05, tariff * 1.05 ** 2, tariff * 1.05 ** 3, tariff * 1.05 ** 4, tariff * 1.05 ** 4, tariff * 1.05 ** 4 * 1.07, tariff * 1.05 ** 5 * 1.07, tariff * 1.05 ** 4 * 1.07, tariff * 1.05 ** 4 * 1.07 ** 2],  # Ж/д тариф ($)\n",
        "    \"demand\": [26.5, 28.5, 30, 32, 34, 30, 32, 35, 29.2, 26.4],  # Перевозки (млн. тонны)\n",
        "    \"coal_price\": [60.00, 55.00, 75.00, 100.00, 85.00, 60.00, 120.00,\t300.00, 150.00, 130.00],  # Цена на уголь за тонну\n",
        "    \"exchange_rate\": [221.73, 342.16, 326.00, 344.71, 382.75, 412.95, 426.00, 460.51, 476.20, 495.30],  # Курс валюты (USD/RUB),\n",
        "    \"gdp\": [184.36, 137.28, 159.40, 170.54, 181.67, 163.63, 197.10, 203.00, 211.12, 220.00]\n",
        "})\n",
        "\n",
        "# Берем логарифмы переменных\n",
        "data[\"log_tariff\"] = np.log(data[\"tariff\"])\n",
        "data[\"log_demand\"] = np.log(data[\"demand\"])\n",
        "data[\"log_coal_price\"] = np.log(data[\"coal_price\"])\n",
        "data[\"log_exchange_rate\"] = np.log(data[\"exchange_rate\"])\n",
        "data[\"log_gdp\"] = np.log(data[\"gdp\"])\n",
        "\n",
        "# Формируем матрицу факторов (X) и целевую переменную (y)\n",
        "X = data[[\"log_tariff\", \"log_coal_price\", \"log_gdp\", \"log_exchange_rate\"]]\n",
        "X = sm.add_constant(X)  # Добавляем константу\n",
        "y = data[\"log_demand\"]\n",
        "\n",
        "# Оцениваем регрессию\n",
        "model = sm.OLS(y, X).fit()\n",
        "\n",
        "# Выводим результаты\n",
        "print(model.summary())\n",
        "\n",
        "# Оцененные коэффициенты (эластичности)\n",
        "elasticity_tariff = model.params[\"log_tariff\"]\n",
        "elasticity_coal = model.params[\"log_coal_price\"]\n",
        "elasticity_exchange = model.params[\"log_exchange_rate\"]\n",
        "elasticity_gdp = model.params[\"log_gdp\"]\n",
        "\n",
        "print(f\"Эластичность по тарифу: {elasticity_tariff:.3f}\")\n",
        "print(f\"Эластичность по цене угля: {elasticity_coal:.3f}\")\n",
        "print(f\"Эластичность по курсу валюты: {elasticity_exchange:.3f}\")\n",
        "print(f\"Эластичность по GDP: {elasticity_gdp:.3f}\")"
      ],
      "metadata": {
        "colab": {
          "base_uri": "https://localhost:8080/"
        },
        "id": "SeDEeyZrV1AQ",
        "outputId": "a6e6a175-8a3a-465e-eecb-bc1bca53de03"
      },
      "execution_count": 17,
      "outputs": [
        {
          "output_type": "stream",
          "name": "stdout",
          "text": [
            "                            OLS Regression Results                            \n",
            "==============================================================================\n",
            "Dep. Variable:             log_demand   R-squared:                       0.597\n",
            "Model:                            OLS   Adj. R-squared:                  0.275\n",
            "Method:                 Least Squares   F-statistic:                     1.853\n",
            "Date:                Tue, 04 Feb 2025   Prob (F-statistic):              0.257\n",
            "Time:                        10:45:58   Log-Likelihood:                 14.361\n",
            "No. Observations:                  10   AIC:                            -18.72\n",
            "Df Residuals:                       5   BIC:                            -17.21\n",
            "Df Model:                           4                                         \n",
            "Covariance Type:            nonrobust                                         \n",
            "=====================================================================================\n",
            "                        coef    std err          t      P>|t|      [0.025      0.975]\n",
            "-------------------------------------------------------------------------------------\n",
            "const                 2.0093      2.518      0.798      0.461      -4.464       8.482\n",
            "log_tariff            1.9760      1.441      1.371      0.229      -1.729       5.681\n",
            "log_coal_price        0.1297      0.093      1.391      0.223      -0.110       0.369\n",
            "log_gdp              -0.9474      0.450     -2.107      0.089      -2.103       0.208\n",
            "log_exchange_rate    -0.6290      0.492     -1.279      0.257      -1.893       0.635\n",
            "==============================================================================\n",
            "Omnibus:                        2.267   Durbin-Watson:                   1.883\n",
            "Prob(Omnibus):                  0.322   Jarque-Bera (JB):                0.344\n",
            "Skew:                           0.383   Prob(JB):                        0.842\n",
            "Kurtosis:                       3.489   Cond. No.                     1.15e+03\n",
            "==============================================================================\n",
            "\n",
            "Notes:\n",
            "[1] Standard Errors assume that the covariance matrix of the errors is correctly specified.\n",
            "[2] The condition number is large, 1.15e+03. This might indicate that there are\n",
            "strong multicollinearity or other numerical problems.\n",
            "Эластичность по тарифу: 1.976\n",
            "Эластичность по цене угля: 0.130\n",
            "Эластичность по курсу валюты: -0.629\n",
            "Эластичность по GDP: -0.947\n"
          ]
        },
        {
          "output_type": "stream",
          "name": "stderr",
          "text": [
            "/usr/local/lib/python3.11/dist-packages/scipy/stats/_axis_nan_policy.py:531: UserWarning: kurtosistest only valid for n>=20 ... continuing anyway, n=10\n",
            "  res = hypotest_fun_out(*samples, **kwds)\n"
          ]
        }
      ]
    },
    {
      "cell_type": "code",
      "source": [],
      "metadata": {
        "id": "RiEKyHcBV5ZF"
      },
      "execution_count": null,
      "outputs": []
    }
  ]
}